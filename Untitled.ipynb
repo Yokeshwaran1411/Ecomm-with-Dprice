{
 "cells": [
  {
   "cell_type": "code",
   "execution_count": 41,
   "id": "f076173e-3e82-4c2f-8806-9efcd58b89e5",
   "metadata": {},
   "outputs": [
    {
     "name": "stdout",
     "output_type": "stream",
     "text": [
      "  PRODUCT_NAME  PRODUCT_PRICE  DEALER_1_PRICE  DEALER_2_PRICE  DEALER_3_PRICE  SALES_COUNT_DEALER_1  SALES_COUNT_DEALER_2  SALES_COUNT_DEALER_3\n",
      "0        Pants            371             399             434             314                    63                    99                    58\n",
      "1       Blouse            421             380             410             314                    58                    73                    50\n",
      "2       Jacket            371             371             341             398                    88                    98                    81\n",
      "3      T-shirt            387             327             350             343                    73                    90                    98\n",
      "4        Pants            314             400             438             422                    69                    85                    68\n"
     ]
    }
   ],
   "source": [
    "import numpy as np\n",
    "import pandas as pd\n",
    "\n",
    "# Set a random seed for reproducibility\n",
    "np.random.seed(42)\n",
    "\n",
    "# Define the number of products\n",
    "n_products = 10\n",
    "\n",
    "# Generate a list of unique product names for 10 products\n",
    "product_names = [\"T-shirt\", \"Jeans\", \"Dress\", \"Jacket\", \"Sweater\", \"Skirt\", \"Shorts\", \"Blouse\", \"Coat\", \"Pants\"]\n",
    "\n",
    "# Generate synthetic data for each column for 10 products, now with prices from 300 to 450\n",
    "product_prices = np.random.randint(300, 451, size=n_products) # Adjusted to range from 300 to 450\n",
    "\n",
    "# Specify the number of rows you want in your dataset\n",
    "n_rows = 250 # Adjusted to 250 rows\n",
    "\n",
    "# Initialize lists to store data\n",
    "data_rows = []\n",
    "\n",
    "# Generate synthetic data for the specified number of rows\n",
    "for _ in range(n_rows):\n",
    "    # Generate random prices for each dealer, now with prices from 300 to 450\n",
    "    dealer_1_prices = np.random.randint(300, 451, size=n_products)\n",
    "    dealer_3_prices = np.random.randint(300, 451, size=n_products)\n",
    "    \n",
    "    # Generate dealer 2 prices in the same way as dealer 1 and dealer 3, with prices from 300 to 450\n",
    "    dealer_2_prices = np.random.randint(300, 451, size=n_products)\n",
    "\n",
    "    # Generate random sales counts for each dealer within the range of 50 to 100\n",
    "    sales_count_dealer_1 = np.random.randint(50, 101) # Random sales count between 50 and 100\n",
    "    sales_count_dealer_2 = np.random.randint(50, 101) # Random sales count between 50 and 100\n",
    "    sales_count_dealer_3 = np.random.randint(50, 101) # Random sales count between 50 and 100\n",
    "\n",
    "    # Append data for this row\n",
    "    data_rows.append({\n",
    "        'PRODUCT_NAME': np.random.choice(product_names),\n",
    "        'PRODUCT_PRICE': np.random.choice(product_prices),\n",
    "        'DEALER_1_PRICE': dealer_1_prices[np.random.choice(range(n_products))],\n",
    "        'DEALER_2_PRICE': dealer_2_prices[np.random.choice(range(n_products))],\n",
    "        'DEALER_3_PRICE': dealer_3_prices[np.random.choice(range(n_products))],\n",
    "        'SALES_COUNT_DEALER_1': sales_count_dealer_1,\n",
    "        'SALES_COUNT_DEALER_2': sales_count_dealer_2,\n",
    "        'SALES_COUNT_DEALER_3': sales_count_dealer_3,\n",
    "    })\n",
    "\n",
    "# Create a DataFrame\n",
    "data = pd.DataFrame(data_rows)\n",
    "\n",
    "# Adjust display options\n",
    "pd.set_option('display.max_columns', None) # None means unlimited\n",
    "pd.set_option('display.width', 1000) # Adjust the width to fit more columns\n",
    "\n",
    "# Print the DataFrame\n",
    "print(data.head())\n",
    "\n",
    "# Save the DataFrame to a CSV file\n",
    "data.to_csv('synthetic_data.csv', index=False)\n"
   ]
  },
  {
   "cell_type": "code",
   "execution_count": 42,
   "id": "a5d98fca-0193-4824-9b0e-2012f37738aa",
   "metadata": {},
   "outputs": [
    {
     "name": "stdout",
     "output_type": "stream",
     "text": [
      "Overall Profit Percentage for Dealer 1: 46.55815287537645 %\n",
      "Overall Profit Percentage for Dealer 2: 70.00035852574214 %\n",
      "Overall Profit Percentage for Dealer 3: -19.272551269181125 %\n"
     ]
    }
   ],
   "source": [
    "# Assuming 'data' is your DataFrame and it already contains the sales counts and dealer prices\n",
    "\n",
    "# Calculate profit for each dealer\n",
    "data['PROFIT_DEALER_1'] = (data['PRODUCT_PRICE'] - data['DEALER_1_PRICE']) * data['SALES_COUNT_DEALER_1']\n",
    "data['PROFIT_DEALER_2'] = (data['PRODUCT_PRICE'] - data['DEALER_2_PRICE']) * data['SALES_COUNT_DEALER_2']\n",
    "data['PROFIT_DEALER_3'] = (data['PRODUCT_PRICE'] - data['DEALER_3_PRICE']) * data['SALES_COUNT_DEALER_3']\n",
    "\n",
    "# Calculate total sales\n",
    "total_sales = data['SALES_COUNT_DEALER_1'].sum() + data['SALES_COUNT_DEALER_2'].sum() + data['SALES_COUNT_DEALER_3'].sum()\n",
    "\n",
    "# Calculate overall profit as a percentage for each dealer\n",
    "data['OVERALL_PROFIT_DEALER_1_PERCENTAGE'] = (data['PROFIT_DEALER_1'].sum() / total_sales) * 100\n",
    "data['OVERALL_PROFIT_DEALER_2_PERCENTAGE'] = (data['PROFIT_DEALER_2'].sum() / total_sales) * 100\n",
    "data['OVERALL_PROFIT_DEALER_3_PERCENTAGE'] = (data['PROFIT_DEALER_3'].sum() / total_sales) * 100\n",
    "\n",
    "# Print overall profit percentages for each dealer\n",
    "print(\"Overall Profit Percentage for Dealer 1:\", data['OVERALL_PROFIT_DEALER_1_PERCENTAGE'].iloc[0], \"%\")\n",
    "print(\"Overall Profit Percentage for Dealer 2:\", data['OVERALL_PROFIT_DEALER_2_PERCENTAGE'].iloc[0], \"%\")\n",
    "print(\"Overall Profit Percentage for Dealer 3:\", data['OVERALL_PROFIT_DEALER_3_PERCENTAGE'].iloc[0], \"%\")\n"
   ]
  },
  {
   "cell_type": "code",
   "execution_count": 47,
   "id": "8ba79795-b91a-4044-bf74-af5adb59d58c",
   "metadata": {},
   "outputs": [
    {
     "name": "stdout",
     "output_type": "stream",
     "text": [
      "New Prices for the Lowest Profit Holder:\n"
     ]
    },
    {
     "ename": "KeyError",
     "evalue": "'NEW_PRICE_X'",
     "output_type": "error",
     "traceback": [
      "\u001b[1;31m---------------------------------------------------------------------------\u001b[0m",
      "\u001b[1;31mKeyError\u001b[0m                                  Traceback (most recent call last)",
      "File \u001b[1;32m~\\AppData\\Local\\Programs\\Python\\Python312\\Lib\\site-packages\\pandas\\core\\indexes\\base.py:3805\u001b[0m, in \u001b[0;36mIndex.get_loc\u001b[1;34m(self, key)\u001b[0m\n\u001b[0;32m   3804\u001b[0m \u001b[38;5;28;01mtry\u001b[39;00m:\n\u001b[1;32m-> 3805\u001b[0m     \u001b[38;5;28;01mreturn\u001b[39;00m \u001b[38;5;28;43mself\u001b[39;49m\u001b[38;5;241;43m.\u001b[39;49m\u001b[43m_engine\u001b[49m\u001b[38;5;241;43m.\u001b[39;49m\u001b[43mget_loc\u001b[49m\u001b[43m(\u001b[49m\u001b[43mcasted_key\u001b[49m\u001b[43m)\u001b[49m\n\u001b[0;32m   3806\u001b[0m \u001b[38;5;28;01mexcept\u001b[39;00m \u001b[38;5;167;01mKeyError\u001b[39;00m \u001b[38;5;28;01mas\u001b[39;00m err:\n",
      "File \u001b[1;32mindex.pyx:167\u001b[0m, in \u001b[0;36mpandas._libs.index.IndexEngine.get_loc\u001b[1;34m()\u001b[0m\n",
      "File \u001b[1;32mindex.pyx:196\u001b[0m, in \u001b[0;36mpandas._libs.index.IndexEngine.get_loc\u001b[1;34m()\u001b[0m\n",
      "File \u001b[1;32mpandas\\\\_libs\\\\hashtable_class_helper.pxi:7081\u001b[0m, in \u001b[0;36mpandas._libs.hashtable.PyObjectHashTable.get_item\u001b[1;34m()\u001b[0m\n",
      "File \u001b[1;32mpandas\\\\_libs\\\\hashtable_class_helper.pxi:7089\u001b[0m, in \u001b[0;36mpandas._libs.hashtable.PyObjectHashTable.get_item\u001b[1;34m()\u001b[0m\n",
      "\u001b[1;31mKeyError\u001b[0m: 'NEW_PRICE_X'",
      "\nThe above exception was the direct cause of the following exception:\n",
      "\u001b[1;31mKeyError\u001b[0m                                  Traceback (most recent call last)",
      "Cell \u001b[1;32mIn[47], line 59\u001b[0m\n\u001b[0;32m     54\u001b[0m \u001b[38;5;66;03m# Print the updated DataFrame to verify the changes\u001b[39;00m\n\u001b[0;32m     55\u001b[0m \u001b[38;5;66;03m# Assuming 'data' is your DataFrame and it contains the updated prices in a column named 'NEW_PRICE_X'\u001b[39;00m\n\u001b[0;32m     56\u001b[0m \n\u001b[0;32m     57\u001b[0m \u001b[38;5;66;03m# Print the new prices for the lowest profit holder\u001b[39;00m\n\u001b[0;32m     58\u001b[0m \u001b[38;5;28mprint\u001b[39m(\u001b[38;5;124m\"\u001b[39m\u001b[38;5;124mNew Prices for the Lowest Profit Holder:\u001b[39m\u001b[38;5;124m\"\u001b[39m)\n\u001b[1;32m---> 59\u001b[0m \u001b[38;5;28mprint\u001b[39m(\u001b[43mdata\u001b[49m\u001b[43m[\u001b[49m\u001b[38;5;124;43m'\u001b[39;49m\u001b[38;5;124;43mNEW_PRICE_X\u001b[39;49m\u001b[38;5;124;43m'\u001b[39;49m\u001b[43m]\u001b[49m)\n\u001b[0;32m     60\u001b[0m \u001b[38;5;66;03m# Assuming 'data' is your DataFrame and it contains the updated prices in columns named 'NEW_PRICE_1', 'NEW_PRICE_2', and 'NEW_PRICE_3'\u001b[39;00m\n\u001b[0;32m     61\u001b[0m \n\u001b[0;32m     62\u001b[0m \u001b[38;5;66;03m# Print the new prices for all dealers\u001b[39;00m\n\u001b[0;32m     63\u001b[0m \u001b[38;5;28;01mfor\u001b[39;00m dealer_number \u001b[38;5;129;01min\u001b[39;00m \u001b[38;5;28mrange\u001b[39m(\u001b[38;5;241m1\u001b[39m, \u001b[38;5;241m4\u001b[39m): \u001b[38;5;66;03m# Assuming there are 3 dealers\u001b[39;00m\n",
      "File \u001b[1;32m~\\AppData\\Local\\Programs\\Python\\Python312\\Lib\\site-packages\\pandas\\core\\frame.py:4090\u001b[0m, in \u001b[0;36mDataFrame.__getitem__\u001b[1;34m(self, key)\u001b[0m\n\u001b[0;32m   4088\u001b[0m \u001b[38;5;28;01mif\u001b[39;00m \u001b[38;5;28mself\u001b[39m\u001b[38;5;241m.\u001b[39mcolumns\u001b[38;5;241m.\u001b[39mnlevels \u001b[38;5;241m>\u001b[39m \u001b[38;5;241m1\u001b[39m:\n\u001b[0;32m   4089\u001b[0m     \u001b[38;5;28;01mreturn\u001b[39;00m \u001b[38;5;28mself\u001b[39m\u001b[38;5;241m.\u001b[39m_getitem_multilevel(key)\n\u001b[1;32m-> 4090\u001b[0m indexer \u001b[38;5;241m=\u001b[39m \u001b[38;5;28;43mself\u001b[39;49m\u001b[38;5;241;43m.\u001b[39;49m\u001b[43mcolumns\u001b[49m\u001b[38;5;241;43m.\u001b[39;49m\u001b[43mget_loc\u001b[49m\u001b[43m(\u001b[49m\u001b[43mkey\u001b[49m\u001b[43m)\u001b[49m\n\u001b[0;32m   4091\u001b[0m \u001b[38;5;28;01mif\u001b[39;00m is_integer(indexer):\n\u001b[0;32m   4092\u001b[0m     indexer \u001b[38;5;241m=\u001b[39m [indexer]\n",
      "File \u001b[1;32m~\\AppData\\Local\\Programs\\Python\\Python312\\Lib\\site-packages\\pandas\\core\\indexes\\base.py:3812\u001b[0m, in \u001b[0;36mIndex.get_loc\u001b[1;34m(self, key)\u001b[0m\n\u001b[0;32m   3807\u001b[0m     \u001b[38;5;28;01mif\u001b[39;00m \u001b[38;5;28misinstance\u001b[39m(casted_key, \u001b[38;5;28mslice\u001b[39m) \u001b[38;5;129;01mor\u001b[39;00m (\n\u001b[0;32m   3808\u001b[0m         \u001b[38;5;28misinstance\u001b[39m(casted_key, abc\u001b[38;5;241m.\u001b[39mIterable)\n\u001b[0;32m   3809\u001b[0m         \u001b[38;5;129;01mand\u001b[39;00m \u001b[38;5;28many\u001b[39m(\u001b[38;5;28misinstance\u001b[39m(x, \u001b[38;5;28mslice\u001b[39m) \u001b[38;5;28;01mfor\u001b[39;00m x \u001b[38;5;129;01min\u001b[39;00m casted_key)\n\u001b[0;32m   3810\u001b[0m     ):\n\u001b[0;32m   3811\u001b[0m         \u001b[38;5;28;01mraise\u001b[39;00m InvalidIndexError(key)\n\u001b[1;32m-> 3812\u001b[0m     \u001b[38;5;28;01mraise\u001b[39;00m \u001b[38;5;167;01mKeyError\u001b[39;00m(key) \u001b[38;5;28;01mfrom\u001b[39;00m \u001b[38;5;21;01merr\u001b[39;00m\n\u001b[0;32m   3813\u001b[0m \u001b[38;5;28;01mexcept\u001b[39;00m \u001b[38;5;167;01mTypeError\u001b[39;00m:\n\u001b[0;32m   3814\u001b[0m     \u001b[38;5;66;03m# If we have a listlike key, _check_indexing_error will raise\u001b[39;00m\n\u001b[0;32m   3815\u001b[0m     \u001b[38;5;66;03m#  InvalidIndexError. Otherwise we fall through and re-raise\u001b[39;00m\n\u001b[0;32m   3816\u001b[0m     \u001b[38;5;66;03m#  the TypeError.\u001b[39;00m\n\u001b[0;32m   3817\u001b[0m     \u001b[38;5;28mself\u001b[39m\u001b[38;5;241m.\u001b[39m_check_indexing_error(key)\n",
      "\u001b[1;31mKeyError\u001b[0m: 'NEW_PRICE_X'"
     ]
    }
   ],
   "source": [
    "import pandas as pd\n",
    "\n",
    "# Sample DataFrame for demonstration\n",
    "data = pd.DataFrame({\n",
    "    'DEALER_1_PRICE': [100],\n",
    "    'DEALER_2_PRICE': [200],\n",
    "    'DEALER_3_PRICE': [300]\n",
    "})\n",
    "\n",
    "# Assuming the profit percentages are stored in variables\n",
    "overall_profit_percentage_dealer_1 = 46.55815287537645\n",
    "overall_profit_percentage_dealer_2 = 70.00035852574214\n",
    "overall_profit_percentage_dealer_3 = -19.272551269181125\n",
    "\n",
    "# Find the dealer with the lowest profit percentage\n",
    "lowest_profit_percentage = min(overall_profit_percentage_dealer_1, overall_profit_percentage_dealer_2, overall_profit_percentage_dealer_3)\n",
    "\n",
    "# Determine which dealer has the lowest profit percentage\n",
    "if lowest_profit_percentage == overall_profit_percentage_dealer_1:\n",
    "    lowest_profit_holder = \"Dealer 1\"\n",
    "elif lowest_profit_percentage == overall_profit_percentage_dealer_2:\n",
    "    lowest_profit_holder = \"Dealer 2\"\n",
    "else:\n",
    "    lowest_profit_holder = \"Dealer 3\"\n",
    "\n",
    "# Find the dealer with the highest profit percentage\n",
    "highest_profit_percentage = max(overall_profit_percentage_dealer_1, overall_profit_percentage_dealer_2, overall_profit_percentage_dealer_3)\n",
    "\n",
    "# Determine which dealer has the highest profit percentage\n",
    "if highest_profit_percentage == overall_profit_percentage_dealer_1:\n",
    "    highest_profit_holder = \"Dealer 1\"\n",
    "elif highest_profit_percentage == overall_profit_percentage_dealer_2:\n",
    "    highest_profit_holder = \"Dealer 2\"\n",
    "else:\n",
    "    highest_profit_holder = \"Dealer 3\"\n",
    "\n",
    "# The remaining dealer(s) are the medium profit holder(s)\n",
    "medium_profit_holders = [holder for holder in [\"Dealer 1\", \"Dealer 2\", \"Dealer 3\"] if holder not in [lowest_profit_holder, highest_profit_holder]]\n",
    "\n",
    "# Calculate the difference between the profit percentages of the high and medium profit holders\n",
    "diff = profit_percentages[highest_profit_holder] - profit_percentages[medium_profit_holders[0]]\n",
    "\n",
    "# Define a threshold for the difference. If the difference is below this threshold, adjust the price of the lowest profit holder\n",
    "threshold = 10 # Example threshold\n",
    "\n",
    "if diff < threshold:\n",
    "    # Calculate the new price for the lowest profit holder to achieve a medium profit\n",
    "    # This is a simplified example. You might need to adjust the calculation based on your specific requirements.\n",
    "    new_price = data[f\"DEALER_{lowest_profit_holder[-1]}_PRICE\"].iloc[0] + (diff / 2)\n",
    "    \n",
    "    # Save the new price in the DataFrame\n",
    "    data[f\"DEALER_{lowest_profit_holder[-1]}_PRICE\"] = new_price\n",
    "\n",
    "# Print the updated DataFrame to verify the changes\n",
    "# Assuming 'data' is your DataFrame and it contains the updated prices in a column named 'NEW_PRICE_X'\n",
    "\n",
    "# Print the new prices for the lowest profit holder\n",
    "print(\"New Prices for the Lowest Profit Holder:\")\n",
    "print(data['NEW_PRICE_X'])\n",
    "# Assuming 'data' is your DataFrame and it contains the updated prices in columns named 'NEW_PRICE_1', 'NEW_PRICE_2', and 'NEW_PRICE_3'\n",
    "\n",
    "# Print the new prices for all dealers\n",
    "for dealer_number in range(1, 4): # Assuming there are 3 dealers\n",
    "    column_name = f'NEW_PRICE_{dealer_number}'\n",
    "    if column_name in data.columns:\n",
    "        print(f\"New Prices for Dealer {dealer_number}:\")\n",
    "        print(data[column_name])\n",
    "    else:\n",
    "        print(f\"No new prices found for Dealer {dealer_number}.\")\n",
    "\n"
   ]
  },
  {
   "cell_type": "code",
   "execution_count": null,
   "id": "3c7e218e-0ffa-4f52-98cb-60918bd6f654",
   "metadata": {},
   "outputs": [],
   "source": []
  },
  {
   "cell_type": "code",
   "execution_count": null,
   "id": "fd6bef27-a181-46ef-b994-4f723dd05df6",
   "metadata": {},
   "outputs": [],
   "source": []
  },
  {
   "cell_type": "code",
   "execution_count": null,
   "id": "c3266451-d06a-4cac-903e-ee4df0adcb64",
   "metadata": {},
   "outputs": [],
   "source": [
    "\n"
   ]
  },
  {
   "cell_type": "code",
   "execution_count": null,
   "id": "4f96e7df-839f-4560-a943-28be59ff093f",
   "metadata": {},
   "outputs": [],
   "source": []
  }
 ],
 "metadata": {
  "kernelspec": {
   "display_name": "Python 3 (ipykernel)",
   "language": "python",
   "name": "python3"
  },
  "language_info": {
   "codemirror_mode": {
    "name": "ipython",
    "version": 3
   },
   "file_extension": ".py",
   "mimetype": "text/x-python",
   "name": "python",
   "nbconvert_exporter": "python",
   "pygments_lexer": "ipython3",
   "version": "3.12.2"
  }
 },
 "nbformat": 4,
 "nbformat_minor": 5
}
