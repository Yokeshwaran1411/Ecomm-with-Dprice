{
 "cells": [
  {
   "cell_type": "code",
   "execution_count": 8,
   "id": "81b820de-9d90-4451-909d-a0c0209b7295",
   "metadata": {},
   "outputs": [
    {
     "name": "stdout",
     "output_type": "stream",
     "text": [
      "Profit for Dealer 1: 25972\n",
      "Profit for Dealer 2: 39049\n",
      "Profit for Dealer 3: -10751\n",
      "Dealer with the lowest profit: DEALER 3\n"
     ]
    }
   ],
   "source": [
    "import pandas as pd\n",
    "\n",
    "# Read the data from CSV file\n",
    "df = pd.read_csv(\"C:/Users/yokes/Desktop/Q Learning/Decision Tree/synthetic_data.csv\")\n",
    "\n",
    "# Calculate profit for each dealer\n",
    "df['PROFIT_DEALER_1'] = (df['PRODUCT_PRICE'] - df['DEALER_1_PRICE']) * df['SALES_COUNT_DEALER_1']\n",
    "df['PROFIT_DEALER_2'] = (df['PRODUCT_PRICE'] - df['DEALER_2_PRICE']) * df['SALES_COUNT_DEALER_2']\n",
    "df['PROFIT_DEALER_3'] = (df['PRODUCT_PRICE'] - df['DEALER_3_PRICE']) * df['SALES_COUNT_DEALER_3']\n",
    "\n",
    "# Sum up the profits for each dealer\n",
    "profit_dealer_1 = df['PROFIT_DEALER_1'].sum()\n",
    "profit_dealer_2 = df['PROFIT_DEALER_2'].sum()\n",
    "profit_dealer_3 = df['PROFIT_DEALER_3'].sum()\n",
    "\n",
    "# Identify the dealer with the lowest profit\n",
    "min_profit = min(profit_dealer_1, profit_dealer_2, profit_dealer_3)\n",
    "lowest_profit_holder = None\n",
    "if min_profit == profit_dealer_1:\n",
    "    lowest_profit_holder = 'DEALER 1'\n",
    "elif min_profit == profit_dealer_2:\n",
    "    lowest_profit_holder = 'DEALER 2'\n",
    "else:\n",
    "    lowest_profit_holder = 'DEALER 3'\n",
    "\n",
    "# Output the results\n",
    "print(\"Profit for Dealer 1:\", profit_dealer_1)\n",
    "print(\"Profit for Dealer 2:\", profit_dealer_2)\n",
    "print(\"Profit for Dealer 3:\", profit_dealer_3)\n",
    "print(\"Dealer with the lowest profit:\", lowest_profit_holder)\n"
   ]
  },
  {
   "cell_type": "code",
   "execution_count": 9,
   "id": "a021f34e-726e-4ab9-8a24-436077e090d6",
   "metadata": {},
   "outputs": [
    {
     "name": "stdout",
     "output_type": "stream",
     "text": [
      "Accuracy: 1.0\n",
      "Predicted dealers for testing data:\n",
      "['DEALER 3' 'DEALER 3' 'DEALER 3' 'DEALER 3' 'DEALER 3' 'DEALER 3'\n",
      " 'DEALER 3' 'DEALER 3' 'DEALER 3' 'DEALER 3' 'DEALER 3' 'DEALER 3'\n",
      " 'DEALER 3' 'DEALER 3' 'DEALER 3' 'DEALER 3' 'DEALER 3' 'DEALER 3'\n",
      " 'DEALER 3' 'DEALER 3' 'DEALER 3' 'DEALER 3' 'DEALER 3' 'DEALER 3'\n",
      " 'DEALER 3' 'DEALER 3' 'DEALER 3' 'DEALER 3' 'DEALER 3' 'DEALER 3'\n",
      " 'DEALER 3' 'DEALER 3' 'DEALER 3' 'DEALER 3' 'DEALER 3' 'DEALER 3'\n",
      " 'DEALER 3' 'DEALER 3' 'DEALER 3' 'DEALER 3' 'DEALER 3' 'DEALER 3'\n",
      " 'DEALER 3' 'DEALER 3' 'DEALER 3' 'DEALER 3' 'DEALER 3' 'DEALER 3'\n",
      " 'DEALER 3' 'DEALER 3']\n"
     ]
    }
   ],
   "source": [
    "import pandas as pd\n",
    "from sklearn.model_selection import train_test_split\n",
    "from sklearn.tree import DecisionTreeClassifier\n",
    "from sklearn.metrics import accuracy_score\n",
    "\n",
    "# Read the data from CSV file\n",
    "df = pd.read_csv(\"C:/Users/yokes/Desktop/Q Learning/Decision Tree/synthetic_data.csv\")\n",
    "\n",
    "# Calculate profit for each dealer\n",
    "df['PROFIT_DEALER_1'] = (df['PRODUCT_PRICE'] - df['DEALER_1_PRICE']) * df['SALES_COUNT_DEALER_1']\n",
    "df['PROFIT_DEALER_2'] = (df['PRODUCT_PRICE'] - df['DEALER_2_PRICE']) * df['SALES_COUNT_DEALER_2']\n",
    "df['PROFIT_DEALER_3'] = (df['PRODUCT_PRICE'] - df['DEALER_3_PRICE']) * df['SALES_COUNT_DEALER_3']\n",
    "\n",
    "# Identify the lowest profit holder\n",
    "min_profit = min(df['PROFIT_DEALER_1'].sum(), df['PROFIT_DEALER_2'].sum(), df['PROFIT_DEALER_3'].sum())\n",
    "df['LOW_PROFIT_HOLDER'] = df.apply(lambda row: 'DEALER 1' if row['PROFIT_DEALER_1'] == min_profit else ('DEALER 2' if row['PROFIT_DEALER_2'] == min_profit else 'DEALER 3'), axis=1)\n",
    "\n",
    "# Define features (X) and target variable (y)\n",
    "X = df[['PRODUCT_PRICE', 'DEALER_1_PRICE', 'DEALER_2_PRICE', 'DEALER_3_PRICE', 'SALES_COUNT_DEALER_1', 'SALES_COUNT_DEALER_2', 'SALES_COUNT_DEALER_3']]\n",
    "y = df['LOW_PROFIT_HOLDER']\n",
    "\n",
    "# Split the data into training and testing sets\n",
    "X_train, X_test, y_train, y_test = train_test_split(X, y, test_size=0.2, random_state=42)\n",
    "\n",
    "# Train the decision tree classifier\n",
    "clf = DecisionTreeClassifier()\n",
    "clf.fit(X_train, y_train)\n",
    "\n",
    "# Predict the low-profit holder for the test data\n",
    "predicted_labels = clf.predict(X_test)\n",
    "\n",
    "# Calculate accuracy score\n",
    "accuracy = accuracy_score(y_test, predicted_labels)\n",
    "\n",
    "# Print the accuracy\n",
    "print(\"Accuracy:\", accuracy)\n",
    "# Predict the low-profit holder for the testing data\n",
    "new_predicted_labels = clf.predict(X_test)\n",
    "\n",
    "# Print the predicted low-profit holders for the testing data\n",
    "print(\"Predicted dealers for testing data:\")\n",
    "print(new_predicted_labels)\n",
    "\n"
   ]
  },
  {
   "cell_type": "code",
   "execution_count": 10,
   "id": "82bb40e0-ff4c-4aee-8275-2a20b22894c0",
   "metadata": {},
   "outputs": [
    {
     "name": "stdout",
     "output_type": "stream",
     "text": [
      "Overall low-profit holder predicted by the model: DEALER 3\n"
     ]
    }
   ],
   "source": [
    "from collections import Counter\n",
    "\n",
    "# Count the occurrences of each predicted dealer\n",
    "dealer_counts = Counter(new_predicted_labels)\n",
    "\n",
    "# Get the dealer with the highest count\n",
    "overall_low_profit = dealer_counts.most_common(1)[0][0]\n",
    "\n",
    "# Print the overall low-profit holder predicted by the model\n",
    "print(\"Overall low-profit holder predicted by the model:\", overall_low_profit)\n"
   ]
  },
  {
   "cell_type": "code",
   "execution_count": 11,
   "id": "afd8ed46-e103-4a1d-a7a1-6f101ea3eca8",
   "metadata": {},
   "outputs": [
    {
     "name": "stdout",
     "output_type": "stream",
     "text": [
      "Accuracy: 1.0\n",
      "Predicted dealers for testing data:\n",
      "['DEALER 3' 'DEALER 3' 'DEALER 3' 'DEALER 3' 'DEALER 3' 'DEALER 3'\n",
      " 'DEALER 3' 'DEALER 3' 'DEALER 3' 'DEALER 3' 'DEALER 3' 'DEALER 3'\n",
      " 'DEALER 3' 'DEALER 3' 'DEALER 3' 'DEALER 3' 'DEALER 3' 'DEALER 3'\n",
      " 'DEALER 3' 'DEALER 3' 'DEALER 3' 'DEALER 3' 'DEALER 3' 'DEALER 3'\n",
      " 'DEALER 3' 'DEALER 3' 'DEALER 3' 'DEALER 3' 'DEALER 3' 'DEALER 3'\n",
      " 'DEALER 3' 'DEALER 3' 'DEALER 3' 'DEALER 3' 'DEALER 3' 'DEALER 3'\n",
      " 'DEALER 3' 'DEALER 3' 'DEALER 3' 'DEALER 3' 'DEALER 3' 'DEALER 3'\n",
      " 'DEALER 3' 'DEALER 3' 'DEALER 3' 'DEALER 3' 'DEALER 3' 'DEALER 3'\n",
      " 'DEALER 3' 'DEALER 3']\n"
     ]
    }
   ],
   "source": [
    "import pandas as pd\n",
    "from sklearn.model_selection import train_test_split\n",
    "from sklearn.tree import DecisionTreeClassifier\n",
    "from sklearn.metrics import accuracy_score\n",
    "\n",
    "# Read the data from CSV file\n",
    "df = pd.read_csv(\"C:/Users/yokes/Desktop/Q Learning/Decision Tree/synthetic_data.csv\")\n",
    "\n",
    "# Calculate profit for each dealer\n",
    "df['PROFIT_DEALER_1'] = (df['PRODUCT_PRICE'] - df['DEALER_1_PRICE']) * df['SALES_COUNT_DEALER_1']\n",
    "df['PROFIT_DEALER_2'] = (df['PRODUCT_PRICE'] - df['DEALER_2_PRICE']) * df['SALES_COUNT_DEALER_2']\n",
    "df['PROFIT_DEALER_3'] = (df['PRODUCT_PRICE'] - df['DEALER_3_PRICE']) * df['SALES_COUNT_DEALER_3']\n",
    "\n",
    "# Identify the lowest profit holder\n",
    "min_profit = min(df['PROFIT_DEALER_1'].sum(), df['PROFIT_DEALER_2'].sum(), df['PROFIT_DEALER_3'].sum())\n",
    "df['LOW_PROFIT_HOLDER'] = df.apply(lambda row: 'DEALER 1' if row['PROFIT_DEALER_1'] == min_profit else ('DEALER 2' if row['PROFIT_DEALER_2'] == min_profit else 'DEALER 3'), axis=1)\n",
    "\n",
    "# Define features (X) and target variable (y)\n",
    "X = df[['PRODUCT_PRICE', 'DEALER_1_PRICE', 'DEALER_2_PRICE', 'DEALER_3_PRICE', 'SALES_COUNT_DEALER_1', 'SALES_COUNT_DEALER_2', 'SALES_COUNT_DEALER_3']]\n",
    "y = df['LOW_PROFIT_HOLDER']\n",
    "\n",
    "# Split the data into training and testing sets\n",
    "X_train, X_test, y_train, y_test = train_test_split(X, y, test_size=0.2, random_state=42)\n",
    "\n",
    "# Train the decision tree classifier\n",
    "clf = DecisionTreeClassifier()\n",
    "clf.fit(X_train, y_train)\n",
    "\n",
    "# Predict the low-profit holder for the test data\n",
    "predicted_labels = clf.predict(X_test)\n",
    "\n",
    "# Calculate accuracy score\n",
    "accuracy = accuracy_score(y_test, predicted_labels)\n",
    "\n",
    "# Print the accuracy\n",
    "print(\"Accuracy:\", accuracy)\n",
    "\n",
    "# Print the predicted low-profit holders for the testing data\n",
    "print(\"Predicted dealers for testing data:\")\n",
    "print(predicted_labels)\n"
   ]
  },
  {
   "cell_type": "code",
   "execution_count": 12,
   "id": "7aa837ed-adae-43b7-832a-9d38082acdb0",
   "metadata": {},
   "outputs": [
    {
     "name": "stdout",
     "output_type": "stream",
     "text": [
      "Overall low-profit holder predicted by the model: DEALER 3\n"
     ]
    }
   ],
   "source": [
    "from collections import Counter\n",
    "\n",
    "# Count the occurrences of each predicted dealer\n",
    "dealer_counts = Counter(predicted_labels)\n",
    "\n",
    "# Get the dealer with the highest count\n",
    "overall_low_profit = dealer_counts.most_common(1)[0][0]\n",
    "\n",
    "# Print the overall low-profit holder predicted by the model\n",
    "print(\"Overall low-profit holder predicted by the model:\", overall_low_profit)\n"
   ]
  },
  {
   "cell_type": "code",
   "execution_count": 14,
   "id": "201d5c15-ecfa-486d-81f2-49f27c890b9c",
   "metadata": {},
   "outputs": [
    {
     "name": "stdout",
     "output_type": "stream",
     "text": [
      "Generated Test Data:\n",
      "  PRODUCT_NAME  PRODUCT_PRICE  DEALER_1_PRICE  DEALER_2_PRICE  DEALER_3_PRICE  \\\n",
      "0    Product_A            100              90              95              85   \n",
      "1    Product_B            120             110             115             105   \n",
      "2    Product_C            150             140             145             135   \n",
      "\n",
      "   SALES_COUNT_DEALER_1  SALES_COUNT_DEALER_2  SALES_COUNT_DEALER_3  \n",
      "0                    50                    45                    55  \n",
      "1                    60                    55                    65  \n",
      "2                    70                    65                    75  \n",
      "Profit for Dealer 1: 1800\n",
      "Profit for Dealer 2: 825\n",
      "Profit for Dealer 3: 2925\n",
      "Dealer with the lowest profit: DEALER 2\n",
      "Predicted dealers for test data:\n",
      "['DEALER 3' 'DEALER 3' 'DEALER 3']\n"
     ]
    }
   ],
   "source": [
    "import pandas as pd\n",
    "\n",
    "# Define the column headers\n",
    "columns = ['PRODUCT_NAME', 'PRODUCT_PRICE', 'DEALER_1_PRICE', 'DEALER_2_PRICE', 'DEALER_3_PRICE', 'SALES_COUNT_DEALER_1', 'SALES_COUNT_DEALER_2', 'SALES_COUNT_DEALER_3']\n",
    "\n",
    "# Create a dictionary with sample data\n",
    "data = {\n",
    "    'PRODUCT_NAME': ['Product_A', 'Product_B', 'Product_C'],\n",
    "    'PRODUCT_PRICE': [100, 120, 150],\n",
    "    'DEALER_1_PRICE': [90, 110, 140],\n",
    "    'DEALER_2_PRICE': [95, 115, 145],\n",
    "    'DEALER_3_PRICE': [85, 105, 135],\n",
    "    'SALES_COUNT_DEALER_1': [50, 60, 70],\n",
    "    'SALES_COUNT_DEALER_2': [45, 55, 65],\n",
    "    'SALES_COUNT_DEALER_3': [55, 65, 75]\n",
    "}\n",
    "\n",
    "# Create a DataFrame from the dictionary\n",
    "test_data = pd.DataFrame(data, columns=columns)\n",
    "\n",
    "# Display the test data\n",
    "print(\"Generated Test Data:\")\n",
    "print(test_data)\n",
    "# Calculate profit for each dealer in the test data\n",
    "test_data['PROFIT_DEALER_1'] = (test_data['PRODUCT_PRICE'] - test_data['DEALER_1_PRICE']) * test_data['SALES_COUNT_DEALER_1']\n",
    "test_data['PROFIT_DEALER_2'] = (test_data['PRODUCT_PRICE'] - test_data['DEALER_2_PRICE']) * test_data['SALES_COUNT_DEALER_2']\n",
    "test_data['PROFIT_DEALER_3'] = (test_data['PRODUCT_PRICE'] - test_data['DEALER_3_PRICE']) * test_data['SALES_COUNT_DEALER_3']\n",
    "\n",
    "# Sum up the profits for each dealer\n",
    "profit_dealer_1 = test_data['PROFIT_DEALER_1'].sum()\n",
    "profit_dealer_2 = test_data['PROFIT_DEALER_2'].sum()\n",
    "profit_dealer_3 = test_data['PROFIT_DEALER_3'].sum()\n",
    "\n",
    "# Identify the dealer with the lowest profit\n",
    "min_profit = min(profit_dealer_1, profit_dealer_2, profit_dealer_3)\n",
    "lowest_profit_holder = None\n",
    "if min_profit == profit_dealer_1:\n",
    "    lowest_profit_holder = 'DEALER 1'\n",
    "elif min_profit == profit_dealer_2:\n",
    "    lowest_profit_holder = 'DEALER 2'\n",
    "else:\n",
    "    lowest_profit_holder = 'DEALER 3'\n",
    "\n",
    "# Output the results\n",
    "print(\"Profit for Dealer 1:\", profit_dealer_1)\n",
    "print(\"Profit for Dealer 2:\", profit_dealer_2)\n",
    "print(\"Profit for Dealer 3:\", profit_dealer_3)\n",
    "print(\"Dealer with the lowest profit:\", lowest_profit_holder)\n",
    "\n",
    "# Assuming clf is already trained\n",
    "# Predict the low-profit holder for the test data\n",
    "predicted_labels = clf.predict(test_data[['PRODUCT_PRICE', 'DEALER_1_PRICE', 'DEALER_2_PRICE', 'DEALER_3_PRICE', 'SALES_COUNT_DEALER_1', 'SALES_COUNT_DEALER_2', 'SALES_COUNT_DEALER_3']])\n",
    "\n",
    "# Print the predicted low-profit holders for the test data\n",
    "print(\"Predicted dealers for test data:\")\n",
    "print(predicted_labels)\n",
    "\n",
    "\n"
   ]
  },
  {
   "cell_type": "code",
   "execution_count": null,
   "id": "6ac6b66d-9157-41a6-abae-1345a975e258",
   "metadata": {},
   "outputs": [],
   "source": []
  }
 ],
 "metadata": {
  "kernelspec": {
   "display_name": "Python 3 (ipykernel)",
   "language": "python",
   "name": "python3"
  },
  "language_info": {
   "codemirror_mode": {
    "name": "ipython",
    "version": 3
   },
   "file_extension": ".py",
   "mimetype": "text/x-python",
   "name": "python",
   "nbconvert_exporter": "python",
   "pygments_lexer": "ipython3",
   "version": "3.12.2"
  }
 },
 "nbformat": 4,
 "nbformat_minor": 5
}
